{
  "nbformat": 4,
  "nbformat_minor": 0,
  "metadata": {
    "colab": {
      "provenance": []
    },
    "kernelspec": {
      "name": "python3",
      "display_name": "Python 3"
    },
    "language_info": {
      "name": "python"
    }
  },
  "cells": [
    {
      "cell_type": "code",
      "execution_count": null,
      "metadata": {
        "id": "01nfEgDPyRrH"
      },
      "outputs": [],
      "source": []
    },
    {
      "cell_type": "markdown",
      "source": [
        "# Pyhton Basics"
      ],
      "metadata": {
        "id": "5i9oGkHvySaB"
      }
    },
    {
      "cell_type": "code",
      "source": [],
      "metadata": {
        "id": "qNwlZec4yZre"
      },
      "execution_count": null,
      "outputs": []
    },
    {
      "cell_type": "markdown",
      "source": [
        "1. What is pyhton, and why is it popular?\n",
        "  -  Python is a high level,versatile and easy to learn programming language known for its readability and extensive library.Python is a programming language that is easy to understand and write also It\n",
        "   is a high-level language, interpreted and object oriented programming language.\n",
        "   It is popular because python has a large and active community of developers,vast library and has packages for varios Domains.\n",
        "\n",
        "2. What is an interpreter in Python?\n",
        "  - In Python,interpreter is a program that executes the Python codes line by line It reads the code , translates it into machine readable instructions(bytecode) and then run those instructions.\n",
        "\n",
        "3. What are pre-defined keywords in Python?\n",
        "  - Predefined keywords are reserved words that have special meanings serve specific purposes in the language syntax.Python Keywords cannot be used as the names of Variables , Functions and classes or any identifiers.\n",
        "  List of keywords are def,else,non,true,false,while,None,import etc\n",
        "   \n",
        "4. Can keywords be used as variable names?\n",
        "  - No,keywords cannot be used as variable names in Python. Python Keywords have special meaning in the language's syntax .They define the structure and the rules of Python code.If tried to use a keyword as a variable name , Python will a raise a Syntax Error because it wouldn't know whether we mean the keyword's special purpose or variable's.\n",
        "\n",
        "5. What is mutability in Python?\n",
        "  - Mutability means whether an object's content(value) can be changed and modified after it is created. Lists,set,dict are mutable objects.\n",
        "\n",
        "6. Why are lists mutable, but tuples are immutable?\n",
        "  - List are mutable because they are designed for dynamic collections of items as we often want to add ,remove ,or change elements freely,so lists need to be flexible for tasks like appending,sorting, replacing items in place.\n",
        "  whereas Tuples are designed to be fixed collections like records these are often used when we want group related data that shouldn't change accidently.\n",
        "   \n",
        "7. What is the difference between “==” and “is” operators in Python?\n",
        "  - \"==\" operator is a Equality operator that checks if the values are same whereas \"is\" operator is a Identity operator that checks they are the same objects in the memory.\n",
        "\n",
        "8. What are logical operators in Python?\n",
        "  - Logical operators in Python are used to combine conditional statements and perform logical operations on Boolean values i.e True or False. They are essential for controlling program flow and making decisions based on multiple conditions. Logical AND ,Logical OR, Logical NOT these are the three Logical Operators.\n",
        "\n",
        "9. What is type casting in Python?\n",
        "  - Type casting is also known as type conversion and is the process of\n",
        "   converting a value from one data type to another.This is often necessary when performing operations that require specific data types or when preparing data for different purposes.\n",
        "\n",
        "10.What is the difference between implicit and explicit type casting?\n",
        "  - Implicit type casting i.e. automatic type casting it\n",
        "   is done  automatically by the Python when different data types are mixed\n",
        "   in an expression. In Explicit type casting we can manually convert one data type to another using built in functions like int() ,float(),str() etc\n",
        "\n",
        "11.What is the purpose of conditional statements in Python?\n",
        "  - The purpose of conditional statements is to control the flow of program\n",
        "  they decide which blocks of code run,based on the certain conditions met or not in form of true false.without conditional statements our program will run line by line but with the help of conditional statements our code can react to user input , handle different scenarios , perform different actions based on data or conditions.\n",
        "\n",
        "\n",
        "12.How does the elif statement work?\n",
        "  - The “elif” statement also known as “else if”. It lets us to check Multiple conditions one after another. For example, if the first\n",
        "   condition is false, it moves on to the next “elif” statement to check if that condition is true.\n",
        "\n",
        "13.What is the difference between for and while loops?\n",
        "  - for loops are typically used when the number of iterations is known\n",
        "   whereas while loops are used when the number of iterations is determined by a condition or are unknown The loop will continue until the conditions becomes false.\n",
        "\n",
        "14.Describe a scenario where a while loop is more suitable than a for loop?\n",
        "  - Let's take a Scenario where we want to ask a user to enter their password until they get it right . so here we don't know how many attempts will they take to make it correct whereas For loop only allows to make fixed iterations(like looping over a list or range) But here there is no fixed count that how many times the user will to make it correct . so here While Loop is more suitable that for loop  as it'll keep going until the conditions change or password enetered is correct."
      ],
      "metadata": {
        "id": "MvNM2tooygXi"
      }
    },
    {
      "cell_type": "markdown",
      "source": [],
      "metadata": {
        "id": "rpD3girw4XI3"
      }
    },
    {
      "cell_type": "code",
      "source": [
        "# 1.Write a Python program to print \"Hello, World!"
      ],
      "metadata": {
        "id": "VethSSiuzLPj"
      },
      "execution_count": null,
      "outputs": []
    },
    {
      "cell_type": "code",
      "source": [
        "a=\"Hello, World!\"\n",
        "print(a)"
      ],
      "metadata": {
        "colab": {
          "base_uri": "https://localhost:8080/"
        },
        "id": "e4FNAhBazzLL",
        "outputId": "0b6de79d-334c-4441-a35b-9fac627aa914"
      },
      "execution_count": null,
      "outputs": [
        {
          "output_type": "stream",
          "name": "stdout",
          "text": [
            "Hello, World!\n"
          ]
        }
      ]
    },
    {
      "cell_type": "code",
      "source": [
        "# 2.Write a Python program that displays your name and age"
      ],
      "metadata": {
        "id": "3aLj_K_Fz8oE"
      },
      "execution_count": null,
      "outputs": []
    },
    {
      "cell_type": "code",
      "source": [
        "name=\"Brij_Kishore_Singh\"\n",
        "age=\"25\"\n",
        "print(\"Name:\",name)\n",
        "print(\"Age:\",age)\n"
      ],
      "metadata": {
        "colab": {
          "base_uri": "https://localhost:8080/"
        },
        "id": "I5AGnbe90Ot3",
        "outputId": "afb92e39-de32-44f4-c6a6-f256d61a6c8e"
      },
      "execution_count": null,
      "outputs": [
        {
          "output_type": "stream",
          "name": "stdout",
          "text": [
            "Name: Brij_Kishore_Singh\n",
            "Age: 25\n"
          ]
        }
      ]
    },
    {
      "cell_type": "code",
      "source": [
        "# 3.Write code to print all the pre-defined keywords in Python using the keyword library\n",
        "\n",
        "import keyword #get the list of all keywords\n",
        "keywords_list= keyword.kwlist\n",
        "print(\"Python Keywords:\")\n",
        "for kw in keywords_list:\n",
        "  print(kw)"
      ],
      "metadata": {
        "id": "SiYYvTZ10tG8",
        "colab": {
          "base_uri": "https://localhost:8080/"
        },
        "outputId": "3b8b7a2e-bfc6-4269-d697-f4ea33dd7e3f"
      },
      "execution_count": null,
      "outputs": [
        {
          "output_type": "stream",
          "name": "stdout",
          "text": [
            "Python Keywords:\n",
            "False\n",
            "None\n",
            "True\n",
            "and\n",
            "as\n",
            "assert\n",
            "async\n",
            "await\n",
            "break\n",
            "class\n",
            "continue\n",
            "def\n",
            "del\n",
            "elif\n",
            "else\n",
            "except\n",
            "finally\n",
            "for\n",
            "from\n",
            "global\n",
            "if\n",
            "import\n",
            "in\n",
            "is\n",
            "lambda\n",
            "nonlocal\n",
            "not\n",
            "or\n",
            "pass\n",
            "raise\n",
            "return\n",
            "try\n",
            "while\n",
            "with\n",
            "yield\n"
          ]
        }
      ]
    },
    {
      "cell_type": "code",
      "source": [
        "# 4.Write a program that checks if a given word is a Python keyword."
      ],
      "metadata": {
        "id": "nXpcGe_X1EN4"
      },
      "execution_count": null,
      "outputs": []
    },
    {
      "cell_type": "code",
      "source": [
        "a=25\n",
        "b=\"BRIJ_KISHORE_SINGH\"\n",
        "c=9.778\n",
        "print(type(a))\n",
        "print(type(b))\n",
        "print(type(c))"
      ],
      "metadata": {
        "colab": {
          "base_uri": "https://localhost:8080/"
        },
        "id": "6X9HsiFw2hTM",
        "outputId": "c0f29eec-d76c-45b0-a30c-80d6aa9afba6"
      },
      "execution_count": null,
      "outputs": [
        {
          "output_type": "stream",
          "name": "stdout",
          "text": [
            "<class 'int'>\n",
            "<class 'str'>\n",
            "<class 'float'>\n"
          ]
        }
      ]
    },
    {
      "cell_type": "code",
      "source": [
        "# 5. Create a list and tuple in Python, and demonstrate how attempting to change an element works differently for each."
      ],
      "metadata": {
        "id": "LS6OGPiX2pyw"
      },
      "execution_count": null,
      "outputs": []
    },
    {
      "cell_type": "code",
      "source": [
        "list=[1,9,7,4]\n",
        "print(\"list_a:\",list)\n",
        "list[2]=11\n",
        "print(\"Update_list:\",list)\n",
        "tuple=(21,23,37)\n",
        "print(\"tuple_a:\",tuple)\n",
        "tuple[0]=6\n",
        "print(\"Update_tuple:\",tuple)"
      ],
      "metadata": {
        "id": "EYPaJLBZ21_d",
        "colab": {
          "base_uri": "https://localhost:8080/",
          "height": 245
        },
        "outputId": "03f81a07-a797-4c86-9999-d8d816d75351"
      },
      "execution_count": null,
      "outputs": [
        {
          "output_type": "stream",
          "name": "stdout",
          "text": [
            "list_a: [1, 9, 7, 4]\n",
            "Update_list: [1, 9, 11, 4]\n",
            "tuple_a: (21, 23, 37)\n"
          ]
        },
        {
          "output_type": "error",
          "ename": "TypeError",
          "evalue": "'tuple' object does not support item assignment",
          "traceback": [
            "\u001b[0;31m---------------------------------------------------------------------------\u001b[0m",
            "\u001b[0;31mTypeError\u001b[0m                                 Traceback (most recent call last)",
            "\u001b[0;32m/tmp/ipython-input-5-1728086193.py\u001b[0m in \u001b[0;36m<cell line: 0>\u001b[0;34m()\u001b[0m\n\u001b[1;32m      5\u001b[0m \u001b[0mtuple\u001b[0m\u001b[0;34m=\u001b[0m\u001b[0;34m(\u001b[0m\u001b[0;36m21\u001b[0m\u001b[0;34m,\u001b[0m\u001b[0;36m23\u001b[0m\u001b[0;34m,\u001b[0m\u001b[0;36m37\u001b[0m\u001b[0;34m)\u001b[0m\u001b[0;34m\u001b[0m\u001b[0;34m\u001b[0m\u001b[0m\n\u001b[1;32m      6\u001b[0m \u001b[0mprint\u001b[0m\u001b[0;34m(\u001b[0m\u001b[0;34m\"tuple_a:\"\u001b[0m\u001b[0;34m,\u001b[0m\u001b[0mtuple\u001b[0m\u001b[0;34m)\u001b[0m\u001b[0;34m\u001b[0m\u001b[0;34m\u001b[0m\u001b[0m\n\u001b[0;32m----> 7\u001b[0;31m \u001b[0mtuple\u001b[0m\u001b[0;34m[\u001b[0m\u001b[0;36m0\u001b[0m\u001b[0;34m]\u001b[0m\u001b[0;34m=\u001b[0m\u001b[0;36m6\u001b[0m\u001b[0;34m\u001b[0m\u001b[0;34m\u001b[0m\u001b[0m\n\u001b[0m\u001b[1;32m      8\u001b[0m \u001b[0mprint\u001b[0m\u001b[0;34m(\u001b[0m\u001b[0;34m\"Update_tuple:\"\u001b[0m\u001b[0;34m,\u001b[0m\u001b[0mtuple\u001b[0m\u001b[0;34m)\u001b[0m\u001b[0;34m\u001b[0m\u001b[0;34m\u001b[0m\u001b[0m\n",
            "\u001b[0;31mTypeError\u001b[0m: 'tuple' object does not support item assignment"
          ]
        }
      ]
    },
    {
      "cell_type": "code",
      "source": [
        "# 6.Write a function to demonstrate the behavior of mutable and immutable arguments."
      ],
      "metadata": {
        "id": "ihMfNSsYmgnQ"
      },
      "execution_count": null,
      "outputs": []
    },
    {
      "cell_type": "code",
      "source": [
        "a=[1,3,9,7,\"BK\"]\n",
        "a[1]=12\n",
        "print(\"mutable:\",a)\n",
        "a[3]=\"Singh\"\n",
        "print(\"mutable:\",a)\n"
      ],
      "metadata": {
        "colab": {
          "base_uri": "https://localhost:8080/"
        },
        "id": "vfxidE3rmxec",
        "outputId": "8f87cc29-64b8-43c5-f660-1be83b0af5d9"
      },
      "execution_count": 1,
      "outputs": [
        {
          "output_type": "stream",
          "name": "stdout",
          "text": [
            "mutable: [1, 12, 9, 7, 'BK']\n",
            "mutable: [1, 12, 9, 'Singh', 'BK']\n"
          ]
        }
      ]
    },
    {
      "cell_type": "code",
      "source": [
        "a=\"Bksingh\"\n",
        "b=a[3]\n",
        "print(\"value of a[3]:\",b) # finding the value of a[3] since positive indices starts from 0 i.e a[3]=i\n",
        "a[3]=s\n",
        "print(\"immutable:\",a) # since imuutable means unchangeable things so alphabets in the string will not change."
      ],
      "metadata": {
        "colab": {
          "base_uri": "https://localhost:8080/",
          "height": 211
        },
        "id": "upHQhnMbody9",
        "outputId": "29da7d56-3cdb-4bfc-f0ea-5b8320200d6c"
      },
      "execution_count": 2,
      "outputs": [
        {
          "output_type": "stream",
          "name": "stdout",
          "text": [
            "value of a[3]: i\n"
          ]
        },
        {
          "output_type": "error",
          "ename": "NameError",
          "evalue": "name 's' is not defined",
          "traceback": [
            "\u001b[0;31m---------------------------------------------------------------------------\u001b[0m",
            "\u001b[0;31mNameError\u001b[0m                                 Traceback (most recent call last)",
            "\u001b[0;32m/tmp/ipython-input-2-560801305.py\u001b[0m in \u001b[0;36m<cell line: 0>\u001b[0;34m()\u001b[0m\n\u001b[1;32m      2\u001b[0m \u001b[0mb\u001b[0m\u001b[0;34m=\u001b[0m\u001b[0ma\u001b[0m\u001b[0;34m[\u001b[0m\u001b[0;36m3\u001b[0m\u001b[0;34m]\u001b[0m\u001b[0;34m\u001b[0m\u001b[0;34m\u001b[0m\u001b[0m\n\u001b[1;32m      3\u001b[0m \u001b[0mprint\u001b[0m\u001b[0;34m(\u001b[0m\u001b[0;34m\"value of a[3]:\"\u001b[0m\u001b[0;34m,\u001b[0m\u001b[0mb\u001b[0m\u001b[0;34m)\u001b[0m \u001b[0;31m# finding the value of a[3] since positive indices starts from 0 i.e a[3]=i\u001b[0m\u001b[0;34m\u001b[0m\u001b[0;34m\u001b[0m\u001b[0m\n\u001b[0;32m----> 4\u001b[0;31m \u001b[0ma\u001b[0m\u001b[0;34m[\u001b[0m\u001b[0;36m3\u001b[0m\u001b[0;34m]\u001b[0m\u001b[0;34m=\u001b[0m\u001b[0ms\u001b[0m\u001b[0;34m\u001b[0m\u001b[0;34m\u001b[0m\u001b[0m\n\u001b[0m\u001b[1;32m      5\u001b[0m \u001b[0mprint\u001b[0m\u001b[0;34m(\u001b[0m\u001b[0;34m\"immutable:\"\u001b[0m\u001b[0;34m,\u001b[0m\u001b[0ma\u001b[0m\u001b[0;34m)\u001b[0m \u001b[0;31m# since imuutable means unchangeable things so alphabets in the string will not change.\u001b[0m\u001b[0;34m\u001b[0m\u001b[0;34m\u001b[0m\u001b[0m\n",
            "\u001b[0;31mNameError\u001b[0m: name 's' is not defined"
          ]
        }
      ]
    },
    {
      "cell_type": "code",
      "source": [
        "# 7. Write a program that performs basic arithmetic operations on two user-input numbers."
      ],
      "metadata": {
        "id": "mFVVY5lnpB9w"
      },
      "execution_count": null,
      "outputs": []
    },
    {
      "cell_type": "code",
      "source": [
        "a=59\n",
        "b=47\n",
        "sum=a+b # Sum or addition of two numbers\n",
        "print(sum)\n",
        "subs=a-b # Subtraction of two numbers\n",
        "print(subs)\n",
        "Multiplication=a*b # Multiplication of two numbers\n",
        "print(Multiplication)\n",
        "print(bin(a))\n",
        "print(bin(b))\n",
        "bin=a&b\n",
        "print(bin) # binary Operator"
      ],
      "metadata": {
        "colab": {
          "base_uri": "https://localhost:8080/"
        },
        "id": "ahljDGMvxYbp",
        "outputId": "d3243c4a-1571-4754-bf33-6b75e8e35ebc"
      },
      "execution_count": 3,
      "outputs": [
        {
          "output_type": "stream",
          "name": "stdout",
          "text": [
            "106\n",
            "12\n",
            "2773\n",
            "0b111011\n",
            "0b101111\n",
            "43\n"
          ]
        }
      ]
    },
    {
      "cell_type": "code",
      "source": [
        "# 8. Write a program to demonstrate the use of logical operators."
      ],
      "metadata": {
        "id": "R5sh5vrFzNHi"
      },
      "execution_count": null,
      "outputs": []
    },
    {
      "cell_type": "code",
      "source": [
        "a=True\n",
        "b=False\n",
        "print(\"a=\", a)\n",
        "print(\"b=\", b)\n",
        "print(\"a and b=\", a and b) # Logical and Operator\n",
        "print(\"a or b=\", a or b) # Logical or Operator\n",
        "print(\"not a=\", not a) # Logical not operator\n",
        "print(\"not b=\", not b) #Logical not operator"
      ],
      "metadata": {
        "colab": {
          "base_uri": "https://localhost:8080/"
        },
        "id": "iEjtWIKZzzzp",
        "outputId": "c473ed3e-f649-48a0-e367-b7ea64f084df"
      },
      "execution_count": 5,
      "outputs": [
        {
          "output_type": "stream",
          "name": "stdout",
          "text": [
            "a= True\n",
            "b= False\n",
            "a and b= False\n",
            "a or b= True\n",
            "not a= False\n",
            "not b= True\n"
          ]
        }
      ]
    },
    {
      "cell_type": "code",
      "source": [
        "# 9. Write a Python program to convert user input from string to integer, float, and boolean types."
      ],
      "metadata": {
        "id": "3pd4QOY10bYN"
      },
      "execution_count": null,
      "outputs": []
    },
    {
      "cell_type": "code",
      "source": [
        "a=input(\"Enter a value: \")\n",
        "int_value=int(a) # convert to Integer\n",
        "print(\"Integer:\",int_value)\n",
        "\n",
        "float_value=float(a) # convert to Float\n",
        "print(\"Float:\",float_value)\n",
        "\n",
        "bool_value=bool(a)\n",
        "print(\"Bool:\",bool_value)"
      ],
      "metadata": {
        "colab": {
          "base_uri": "https://localhost:8080/"
        },
        "id": "jVbIivlvxn5D",
        "outputId": "9711bcdc-d911-43d2-94d8-ac02e60fa951"
      },
      "execution_count": 4,
      "outputs": [
        {
          "output_type": "stream",
          "name": "stdout",
          "text": [
            "Enter a value: 45\n",
            "Integer: 45\n",
            "Float: 45.0\n",
            "Bool: True\n"
          ]
        }
      ]
    },
    {
      "cell_type": "code",
      "source": [
        "# 10. Write code to demonstrate type casting with list elements."
      ],
      "metadata": {
        "id": "kuzOOuUU6ZtL"
      },
      "execution_count": null,
      "outputs": []
    },
    {
      "cell_type": "code",
      "source": [
        "data=[1,2.8,3,4.1,5.3]\n",
        "int_data=[int(x) for x in data] # type casted from float to integer\n",
        "print(int_data)\n",
        "data_string=[\"1\",\"3\",\"4\"]\n",
        "float_data=[float(x) for x in data_string] ## type casted from string to float\n",
        "print(float_data)\n",
        "num_1=3\n",
        "num_2=\"4\"\n",
        "sum=int(num_2)\n",
        "print(\"Sum of two numbers:\",num_1+sum)\n"
      ],
      "metadata": {
        "colab": {
          "base_uri": "https://localhost:8080/"
        },
        "id": "wV6pm48s6Lrz",
        "outputId": "1fa0a09e-1bb7-4b43-8eb0-bda34d575eba"
      },
      "execution_count": 6,
      "outputs": [
        {
          "output_type": "stream",
          "name": "stdout",
          "text": [
            "[1, 2, 3, 4, 5]\n",
            "[1.0, 3.0, 4.0]\n",
            "Sum of two numbers: 7\n"
          ]
        }
      ]
    },
    {
      "cell_type": "code",
      "source": [
        "# 11.Write a program that checks if a number is positive, negative, or zero."
      ],
      "metadata": {
        "id": "Z0SH_4f5-8ZX"
      },
      "execution_count": null,
      "outputs": []
    },
    {
      "cell_type": "code",
      "source": [
        "num=float(input(\"Enter a number: \"))\n",
        "if(num>0): # function to check weather the number is postive or not\n",
        "  print(\"The number is Positive\")\n",
        "elif(num<0): # function to check weather the number is negative or not\n",
        "  print(\"The number is Negative\")\n",
        "else:\n",
        "  print(\"The number is zero\")\n"
      ],
      "metadata": {
        "colab": {
          "base_uri": "https://localhost:8080/"
        },
        "id": "iNmm_lTI-zh5",
        "outputId": "5d2f8624-5a64-4599-c231-0488c5400c5b"
      },
      "execution_count": 7,
      "outputs": [
        {
          "output_type": "stream",
          "name": "stdout",
          "text": [
            "Enter a number: -67\n",
            "The number is Negative\n"
          ]
        }
      ]
    },
    {
      "cell_type": "code",
      "source": [
        "# 12. Write a for loop to print numbers from 1 to 10."
      ],
      "metadata": {
        "id": "Z0_eXAODAj8z"
      },
      "execution_count": null,
      "outputs": []
    },
    {
      "cell_type": "code",
      "source": [
        "for i in range(1,11):\n",
        "  print(i)"
      ],
      "metadata": {
        "id": "PZkai08wDIdz",
        "colab": {
          "base_uri": "https://localhost:8080/"
        },
        "outputId": "f7240193-92ae-4c51-a1d1-a801cb18b07f"
      },
      "execution_count": 8,
      "outputs": [
        {
          "output_type": "stream",
          "name": "stdout",
          "text": [
            "1\n",
            "2\n",
            "3\n",
            "4\n",
            "5\n",
            "6\n",
            "7\n",
            "8\n",
            "9\n",
            "10\n"
          ]
        }
      ]
    },
    {
      "cell_type": "code",
      "source": [
        "# 13. Write a Python program to find the sum of all even numbers between 1 and 50."
      ],
      "metadata": {
        "id": "6LIg8W_GxdnT"
      },
      "execution_count": null,
      "outputs": []
    },
    {
      "cell_type": "code",
      "source": [
        "sum=0\n",
        "for num in range(1,51): # Loop through numbers from 1 to 51\n",
        "  if(num%2==0): # Check if the number is even\n",
        "    sum+=num\n",
        "print(\"sum of all even numbers between 1 and 50 is: \",sum)"
      ],
      "metadata": {
        "colab": {
          "base_uri": "https://localhost:8080/"
        },
        "id": "mgy2tqfvxcHk",
        "outputId": "595c2ea1-04a6-4ddd-f546-2d3ad35c37b0"
      },
      "execution_count": 9,
      "outputs": [
        {
          "output_type": "stream",
          "name": "stdout",
          "text": [
            "sum of all even numbers between 1 and 50 is:  650\n"
          ]
        }
      ]
    },
    {
      "cell_type": "code",
      "source": [
        "14.  Write a program to reverse a string using a while loop."
      ],
      "metadata": {
        "id": "dfNjKFlwyVDQ"
      },
      "execution_count": null,
      "outputs": []
    },
    {
      "cell_type": "code",
      "source": [
        "original = \"Reverse String\"\n",
        "reversed_str = \"\"\n",
        "index = len(original) - 1 # Initialize index to the last character\n",
        "while index >= 0: # Loop backwards through the string\n",
        "    reversed_str += original[index]\n",
        "    index -= 1\n",
        "print(\"Reversed string:\", reversed_str) # Print the reversed string"
      ],
      "metadata": {
        "colab": {
          "base_uri": "https://localhost:8080/"
        },
        "id": "u4cvwo85yQAD",
        "outputId": "acdc5a7b-4d87-421b-d06d-3f4a0a4e82c5"
      },
      "execution_count": 10,
      "outputs": [
        {
          "output_type": "stream",
          "name": "stdout",
          "text": [
            "Reversed string: gnirtS esreveR\n"
          ]
        }
      ]
    },
    {
      "cell_type": "code",
      "source": [
        "# 15. Write a Python program to calculate the factorial of a number provided by the user using a while loop."
      ],
      "metadata": {
        "id": "HCZovLiazO49"
      },
      "execution_count": null,
      "outputs": []
    },
    {
      "cell_type": "code",
      "source": [
        "num = int(input(\"Enter a number to find its factorial: \"))\n",
        "factorial = 1  # Initialize variables\n",
        "i = 1\n",
        "if num < 0:  # Check for valid input\n",
        "    print(\"Factorial is not defined for negative numbers.\")\n",
        "else:\n",
        "    while i <= num:   # Calculate factorial using while loop\n",
        "        factorial *= i\n",
        "        i += 1\n",
        "    print(f\"The factorial of {num} is {factorial}\")"
      ],
      "metadata": {
        "colab": {
          "base_uri": "https://localhost:8080/"
        },
        "id": "JB9bkCxvzLM_",
        "outputId": "bd287086-dbcc-4700-9f13-17c975d219d2"
      },
      "execution_count": 11,
      "outputs": [
        {
          "output_type": "stream",
          "name": "stdout",
          "text": [
            "Enter a number to find its factorial: 45\n",
            "The factorial of 45 is 119622220865480194561963161495657715064383733760000000000\n"
          ]
        }
      ]
    },
    {
      "cell_type": "code",
      "source": [],
      "metadata": {
        "id": "qc4VAeID0DOn"
      },
      "execution_count": null,
      "outputs": []
    },
    {
      "cell_type": "code",
      "source": [],
      "metadata": {
        "id": "DpNIPg_wz_rn"
      },
      "execution_count": null,
      "outputs": []
    },
    {
      "cell_type": "code",
      "source": [],
      "metadata": {
        "id": "WicMRj7o0Cev"
      },
      "execution_count": null,
      "outputs": []
    },
    {
      "cell_type": "code",
      "source": [],
      "metadata": {
        "id": "eIP3nufQxPG_"
      },
      "execution_count": null,
      "outputs": []
    },
    {
      "cell_type": "code",
      "source": [],
      "metadata": {
        "id": "eJR-EmtkxIAT"
      },
      "execution_count": null,
      "outputs": []
    },
    {
      "cell_type": "code",
      "source": [],
      "metadata": {
        "id": "GXdcorhAwr9j"
      },
      "execution_count": null,
      "outputs": []
    },
    {
      "cell_type": "code",
      "source": [],
      "metadata": {
        "id": "WgyttPQmwnuz"
      },
      "execution_count": null,
      "outputs": []
    },
    {
      "cell_type": "code",
      "source": [],
      "metadata": {
        "id": "1NHfSW9Dwlb8"
      },
      "execution_count": null,
      "outputs": []
    },
    {
      "cell_type": "code",
      "source": [],
      "metadata": {
        "id": "V0NqDx1pwgbx"
      },
      "execution_count": null,
      "outputs": []
    },
    {
      "cell_type": "code",
      "source": [],
      "metadata": {
        "id": "018tMpUBAfMs"
      },
      "execution_count": null,
      "outputs": []
    },
    {
      "cell_type": "code",
      "source": [],
      "metadata": {
        "id": "uZeO8u4lAbEx"
      },
      "execution_count": null,
      "outputs": []
    },
    {
      "cell_type": "code",
      "source": [],
      "metadata": {
        "id": "h4K5QlkkAXaS"
      },
      "execution_count": null,
      "outputs": []
    },
    {
      "cell_type": "code",
      "source": [],
      "metadata": {
        "id": "9-rfAYT7AUfP"
      },
      "execution_count": null,
      "outputs": []
    },
    {
      "cell_type": "code",
      "source": [],
      "metadata": {
        "id": "LsgrCfJ5AH9S"
      },
      "execution_count": null,
      "outputs": []
    },
    {
      "cell_type": "code",
      "source": [],
      "metadata": {
        "id": "lyl7uiQt_3R0"
      },
      "execution_count": null,
      "outputs": []
    },
    {
      "cell_type": "code",
      "source": [],
      "metadata": {
        "id": "Y3vC7HmE-dyh"
      },
      "execution_count": null,
      "outputs": []
    },
    {
      "cell_type": "code",
      "source": [],
      "metadata": {
        "id": "TlHY6Hv0-F-g"
      },
      "execution_count": null,
      "outputs": []
    },
    {
      "cell_type": "code",
      "source": [],
      "metadata": {
        "id": "L2uH6bMd93PG"
      },
      "execution_count": null,
      "outputs": []
    },
    {
      "cell_type": "code",
      "source": [],
      "metadata": {
        "id": "fjms-Oe69vUc"
      },
      "execution_count": null,
      "outputs": []
    },
    {
      "cell_type": "code",
      "source": [],
      "metadata": {
        "id": "ccxskj1U9JBD"
      },
      "execution_count": null,
      "outputs": []
    },
    {
      "cell_type": "code",
      "source": [],
      "metadata": {
        "id": "czB9IWgf8mWR"
      },
      "execution_count": null,
      "outputs": []
    },
    {
      "cell_type": "code",
      "source": [],
      "metadata": {
        "id": "5h4EqOpU59RO"
      },
      "execution_count": null,
      "outputs": []
    },
    {
      "cell_type": "code",
      "source": [],
      "metadata": {
        "id": "gRRjzU7X5szB"
      },
      "execution_count": null,
      "outputs": []
    },
    {
      "cell_type": "code",
      "source": [],
      "metadata": {
        "id": "RG9sgOp15roA"
      },
      "execution_count": null,
      "outputs": []
    },
    {
      "cell_type": "code",
      "source": [],
      "metadata": {
        "id": "Uen8CBVs3sTz"
      },
      "execution_count": null,
      "outputs": []
    },
    {
      "cell_type": "code",
      "source": [],
      "metadata": {
        "id": "WMshmLEK3JXE"
      },
      "execution_count": null,
      "outputs": []
    },
    {
      "cell_type": "code",
      "source": [],
      "metadata": {
        "id": "jLZ9tzt012Dm"
      },
      "execution_count": null,
      "outputs": []
    },
    {
      "cell_type": "code",
      "source": [],
      "metadata": {
        "id": "N2UGq0G-xQYq"
      },
      "execution_count": null,
      "outputs": []
    },
    {
      "cell_type": "code",
      "source": [],
      "metadata": {
        "id": "EYvu59-Oo-Fg"
      },
      "execution_count": null,
      "outputs": []
    },
    {
      "cell_type": "code",
      "source": [],
      "metadata": {
        "id": "AESzo_PAo3gc"
      },
      "execution_count": null,
      "outputs": []
    },
    {
      "cell_type": "code",
      "source": [],
      "metadata": {
        "id": "CKBHslDvoOfd"
      },
      "execution_count": null,
      "outputs": []
    },
    {
      "cell_type": "code",
      "source": [],
      "metadata": {
        "id": "KkgW85hWmS8u"
      },
      "execution_count": null,
      "outputs": []
    },
    {
      "cell_type": "code",
      "source": [],
      "metadata": {
        "id": "_1kHOVk31hQW"
      },
      "execution_count": null,
      "outputs": []
    },
    {
      "cell_type": "code",
      "source": [],
      "metadata": {
        "id": "LqO2_pCH1JnX"
      },
      "execution_count": null,
      "outputs": []
    },
    {
      "cell_type": "code",
      "source": [],
      "metadata": {
        "id": "d3et6f0A0q0C"
      },
      "execution_count": null,
      "outputs": []
    },
    {
      "cell_type": "code",
      "source": [],
      "metadata": {
        "id": "KAzlpwzv0pAI"
      },
      "execution_count": null,
      "outputs": []
    },
    {
      "cell_type": "code",
      "source": [],
      "metadata": {
        "id": "dxQ2NpBgytq1"
      },
      "execution_count": null,
      "outputs": []
    },
    {
      "cell_type": "code",
      "source": [],
      "metadata": {
        "id": "ydYrgbeFymFL"
      },
      "execution_count": null,
      "outputs": []
    }
  ]
}